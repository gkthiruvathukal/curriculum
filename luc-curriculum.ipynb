{
 "cells": [
  {
   "cell_type": "code",
   "execution_count": 4,
   "metadata": {},
   "outputs": [],
   "source": [
    "import graphviz"
   ]
  },
  {
   "cell_type": "markdown",
   "metadata": {},
   "source": [
    "This example uses GraphViz, one of the most fun open source packages. I like GraphViz because it can do simple graph visualizations and help us to model the curriculum in a more organic way."
   ]
  },
  {
   "cell_type": "markdown",
   "metadata": {},
   "source": [
    "Initial ideas for curriculum...\n",
    "\n",
    "- red = core-only or should be core only\n",
    "- purple = course we should consider reinstating\n",
    "- yellow - possible candidate for renewal or retirement\n",
    "\n",
    "Some open questions:\n",
    "- What Math is really needed for what courses?\n"
   ]
  },
  {
   "cell_type": "code",
   "execution_count": null,
   "metadata": {},
   "outputs": [],
   "source": [
    "def set_general_cluster_properties(c):\n",
    "    c.attr(style='filled')\n",
    "    c.attr(color='lightgrey')\n",
    "    c.node_attr.update(style='filled', color='white')\n"
   ]
  },
  {
   "cell_type": "code",
   "execution_count": 1,
   "metadata": {},
   "outputs": [],
   "source": [
    "clusters = {\n",
    "    \"core\" : {\n",
    "        '111' : None,\n",
    "        '122' : None,\n",
    "        '125' : None,\n",
    "    },\n",
    "    \n",
    "    \"foundation-y1\" : {\n",
    "        '150' : None,\n",
    "        '170' : ['150'],\n",
    "        '163' : None,\n",
    "    },\n",
    "    \n",
    "    \"math-TBD\" : {\n",
    "        \"M161\" : None, \n",
    "        \"M162\" : [\"M161\"],\n",
    "        \"M263\" : None,\n",
    "        \"M264\" : None,\n",
    "        \"M212\" : None,\n",
    "        \"S203\" : None\n",
    "    },\n",
    "    \n",
    "    \"cs-required-y2\" : {\n",
    "        \"250\" : None,\n",
    "        \"271\" : [\"170\"],\n",
    "        \"272\" : [\"271\"],\n",
    "        \"264\" : [\"163\", \"170\"]    \n",
    "    },\n",
    " \n",
    "\n",
    "    \"cs-y3\" : {\n",
    "        '313' : ['272'],\n",
    "        '317' : None\n",
    "    },\n",
    "    \n",
    "    \"cs-systems-arch-ce\" : {\n",
    "        '339' : ['310'],\n",
    "        '364' : ['310'],\n",
    "        '337' : ['310', '313'],\n",
    "        '362' : ['264']\n",
    "    },\n",
    "    \n",
    "    \"cs-pl-se\" : {\n",
    "        '335' : ['330', '371'],\n",
    "        '382' : ['310', '371'],\n",
    "        '376' : ['372']\n",
    "    },\n",
    "    \n",
    "    \"cs-theory\" : {\n",
    "        '363' : ['163', '272', 'M162'],\n",
    "        'adv alg (new)' : ['363'],\n",
    "        '356' : ['363']\n",
    "\n",
    "    }\n",
    "    \n",
    "}"
   ]
  },
  {
   "cell_type": "code",
   "execution_count": 2,
   "metadata": {},
   "outputs": [],
   "source": [
    "def add_cluster(subgraph, cluster_name, prerequisites):\n",
    "    for course_number in prerequisites.keys():\n",
    "        prereq_list = prerequisites[course_number]\n",
    "        if prereq_list != None:\n",
    "            for course_prereq in prereq_list: \n",
    "                subgraph.edge(course_prereq, course_number)\n",
    "        else:\n",
    "            subgraph.node(course_number)\n",
    "        subgraph.attr(label=cluster_name)\n",
    "\n",
    "def add_clusters(graph, clusters):\n",
    "    for cluster_name in clusters.keys():\n",
    "        with graph.subgraph(name=\"cluster_{}\".format(cluster_name)) as cluster:\n",
    "            set_general_cluster_properties(cluster)\n",
    "            add_cluster(cluster, cluster_name, clusters[cluster_name])"
   ]
  },
  {
   "cell_type": "code",
   "execution_count": 3,
   "metadata": {
    "scrolled": true
   },
   "outputs": [
    {
     "ename": "NameError",
     "evalue": "name 'set_general_cluster_properties' is not defined",
     "output_type": "error",
     "traceback": [
      "\u001b[0;31m---------------------------------------------------------------------------\u001b[0m",
      "\u001b[0;31mNameError\u001b[0m                                 Traceback (most recent call last)",
      "\u001b[0;32m<ipython-input-3-689eae75155d>\u001b[0m in \u001b[0;36m<module>\u001b[0;34m\u001b[0m\n\u001b[1;32m     12\u001b[0m     \u001b[0;32mreturn\u001b[0m \u001b[0mcurriculum\u001b[0m\u001b[0;34m\u001b[0m\u001b[0m\n\u001b[1;32m     13\u001b[0m \u001b[0;34m\u001b[0m\u001b[0m\n\u001b[0;32m---> 14\u001b[0;31m \u001b[0mcs\u001b[0m \u001b[0;34m=\u001b[0m \u001b[0mget_cs\u001b[0m\u001b[0;34m(\u001b[0m\u001b[0;34m)\u001b[0m\u001b[0;34m\u001b[0m\u001b[0m\n\u001b[0m\u001b[1;32m     15\u001b[0m \u001b[0mcs\u001b[0m\u001b[0;34m.\u001b[0m\u001b[0msave\u001b[0m\u001b[0;34m(\u001b[0m\u001b[0;34m)\u001b[0m\u001b[0;34m\u001b[0m\u001b[0m\n\u001b[1;32m     16\u001b[0m \u001b[0mcs\u001b[0m\u001b[0;34m.\u001b[0m\u001b[0mrender\u001b[0m\u001b[0;34m(\u001b[0m\u001b[0;34m)\u001b[0m\u001b[0;34m\u001b[0m\u001b[0m\n",
      "\u001b[0;32m<ipython-input-3-689eae75155d>\u001b[0m in \u001b[0;36mget_cs\u001b[0;34m()\u001b[0m\n\u001b[1;32m      9\u001b[0m \u001b[0;34m\u001b[0m\u001b[0m\n\u001b[1;32m     10\u001b[0m \u001b[0;34m\u001b[0m\u001b[0m\n\u001b[0;32m---> 11\u001b[0;31m     \u001b[0madd_clusters\u001b[0m\u001b[0;34m(\u001b[0m\u001b[0mcurriculum\u001b[0m\u001b[0;34m,\u001b[0m \u001b[0mclusters\u001b[0m\u001b[0;34m)\u001b[0m\u001b[0;34m\u001b[0m\u001b[0m\n\u001b[0m\u001b[1;32m     12\u001b[0m     \u001b[0;32mreturn\u001b[0m \u001b[0mcurriculum\u001b[0m\u001b[0;34m\u001b[0m\u001b[0m\n\u001b[1;32m     13\u001b[0m \u001b[0;34m\u001b[0m\u001b[0m\n",
      "\u001b[0;32m<ipython-input-2-ae1ca8c796a9>\u001b[0m in \u001b[0;36madd_clusters\u001b[0;34m(graph, clusters)\u001b[0m\n\u001b[1;32m     12\u001b[0m     \u001b[0;32mfor\u001b[0m \u001b[0mcluster_name\u001b[0m \u001b[0;32min\u001b[0m \u001b[0mclusters\u001b[0m\u001b[0;34m.\u001b[0m\u001b[0mkeys\u001b[0m\u001b[0;34m(\u001b[0m\u001b[0;34m)\u001b[0m\u001b[0;34m:\u001b[0m\u001b[0;34m\u001b[0m\u001b[0m\n\u001b[1;32m     13\u001b[0m         \u001b[0;32mwith\u001b[0m \u001b[0mgraph\u001b[0m\u001b[0;34m.\u001b[0m\u001b[0msubgraph\u001b[0m\u001b[0;34m(\u001b[0m\u001b[0mname\u001b[0m\u001b[0;34m=\u001b[0m\u001b[0;34m\"cluster_{}\"\u001b[0m\u001b[0;34m.\u001b[0m\u001b[0mformat\u001b[0m\u001b[0;34m(\u001b[0m\u001b[0mcluster_name\u001b[0m\u001b[0;34m)\u001b[0m\u001b[0;34m)\u001b[0m \u001b[0;32mas\u001b[0m \u001b[0mcluster\u001b[0m\u001b[0;34m:\u001b[0m\u001b[0;34m\u001b[0m\u001b[0m\n\u001b[0;32m---> 14\u001b[0;31m             \u001b[0mset_general_cluster_properties\u001b[0m\u001b[0;34m(\u001b[0m\u001b[0mcluster\u001b[0m\u001b[0;34m)\u001b[0m\u001b[0;34m\u001b[0m\u001b[0m\n\u001b[0m\u001b[1;32m     15\u001b[0m             \u001b[0madd_cluster\u001b[0m\u001b[0;34m(\u001b[0m\u001b[0mcluster\u001b[0m\u001b[0;34m,\u001b[0m \u001b[0mcluster_name\u001b[0m\u001b[0;34m,\u001b[0m \u001b[0mclusters\u001b[0m\u001b[0;34m[\u001b[0m\u001b[0mcluster_name\u001b[0m\u001b[0;34m]\u001b[0m\u001b[0;34m)\u001b[0m\u001b[0;34m\u001b[0m\u001b[0m\n",
      "\u001b[0;31mNameError\u001b[0m: name 'set_general_cluster_properties' is not defined"
     ]
    }
   ],
   "source": [
    "from graphviz import Digraph\n",
    "\n",
    "\n",
    "\n",
    "def get_cs():\n",
    "    curriculum = Digraph('G', filename='curriculum.gv')\n",
    "    curriculum.attr(compound='true')\n",
    "    curriculum.body.extend(['rankdir=LR', 'size=\"8,5\"'])\n",
    "\n",
    "\n",
    "    add_clusters(curriculum, clusters)\n",
    "    return curriculum\n",
    "\n",
    "cs = get_cs()\n",
    "cs.save()\n",
    "cs.render()\n",
    "\n",
    "\n",
    "cs"
   ]
  },
  {
   "cell_type": "code",
   "execution_count": null,
   "metadata": {},
   "outputs": [],
   "source": []
  },
  {
   "cell_type": "code",
   "execution_count": null,
   "metadata": {},
   "outputs": [],
   "source": []
  }
 ],
 "metadata": {
  "kernelspec": {
   "display_name": "Python 3",
   "language": "python",
   "name": "python3"
  },
  "language_info": {
   "codemirror_mode": {
    "name": "ipython",
    "version": 3
   },
   "file_extension": ".py",
   "mimetype": "text/x-python",
   "name": "python",
   "nbconvert_exporter": "python",
   "pygments_lexer": "ipython3",
   "version": "3.7.0"
  }
 },
 "nbformat": 4,
 "nbformat_minor": 2
}
